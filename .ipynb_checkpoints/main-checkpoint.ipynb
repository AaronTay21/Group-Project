{
 "cells": [
  {
   "cell_type": "markdown",
   "id": "ed111749",
   "metadata": {},
   "source": [
    "# BT3104 Project"
   ]
  },
  {
   "cell_type": "markdown",
   "id": "687a6c47",
   "metadata": {},
   "source": [
    "## 1 Group Members\n",
    "##Aaron Tay Jun Loong (A0233396Y)\n",
    "• Bryan Koh Wei En (A0233536H)\n",
    "• Elston Eng Shi Yang (A0229813B)"
   ]
  }
 ],
 "metadata": {
  "kernelspec": {
   "display_name": "Python 3 (ipykernel)",
   "language": "python",
   "name": "python3"
  },
  "language_info": {
   "codemirror_mode": {
    "name": "ipython",
    "version": 3
   },
   "file_extension": ".py",
   "mimetype": "text/x-python",
   "name": "python",
   "nbconvert_exporter": "python",
   "pygments_lexer": "ipython3",
   "version": "3.11.4"
  }
 },
 "nbformat": 4,
 "nbformat_minor": 5
}
